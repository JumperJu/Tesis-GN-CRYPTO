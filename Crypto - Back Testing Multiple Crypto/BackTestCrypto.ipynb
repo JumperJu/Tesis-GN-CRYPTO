{
 "cells": [
  {
   "cell_type": "code",
   "execution_count": 3,
   "id": "0d2239eb-5d3b-484d-8f99-bcc48546ad09",
   "metadata": {},
   "outputs": [],
   "source": [
    "import pandas as pd\n",
    "from sqlalchemy import create_engine #pip install sqlalchemy ; ##%pip install SQLAlchemy --quiet\n",
    "engine = create_engine('sqlite:///Crypto_1h.db')\n",
    "from backtesting import Backtest, Strategy\n",
    "from backtesting.lib import crossover\n",
    "from backtesting.test import SMA\n",
    "from datetime import timedelta\n",
    "import talib"
   ]
  },
  {
   "cell_type": "code",
   "execution_count": null,
   "id": "69ef8bff-7340-464d-91be-9d65d1543884",
   "metadata": {
    "scrolled": true
   },
   "outputs": [],
   "source": [
    "symbols =pd.read_sql(\"\"\"SELECT name FROM sqlite_schema WHERE type='table'\"\"\",engine)\n",
    "symbols"
   ]
  },
  {
   "cell_type": "code",
   "execution_count": 4,
   "id": "b9ebad49-4f8c-48d9-845e-cf3b05ff5e22",
   "metadata": {},
   "outputs": [],
   "source": [
    "class SmaCross(Strategy):\n",
    "    n1 = 50\n",
    "    n2 = 100\n",
    "\n",
    "    def init(self):\n",
    "        close = self.data.Close\n",
    "        self.sma1 = self.I(SMA, close, self.n1)\n",
    "        self.sma2 = self.I(SMA, close, self.n2)\n",
    "    \n",
    "    def next(self):\n",
    "        price = self.data.Close\n",
    "        if crossover(self.sma1, self.sma2):\n",
    "            sl = price - price *0.03\n",
    "            tp = price + price *0.04\n",
    "            self.buy(sl = sl, tp = tp)"
   ]
  },
  {
   "cell_type": "code",
   "execution_count": 17,
   "id": "25ef4975-df4f-436f-b13b-bcb68272ca49",
   "metadata": {},
   "outputs": [],
   "source": [
    "class EmaCross(Strategy): #v1\n",
    "    emaF=14\n",
    "    emaS=63\n",
    "    \n",
    "    def init(self):\n",
    "        close = self.data.Close\n",
    "        self.emaFast = self.I(talib.EMA, close, self.emaF)\n",
    "        self.emaSlow = self.I(talib.EMA, close, self.emaS)\n",
    "        \n",
    "    def next(self):\n",
    "        price = self.data.Close\n",
    "        if crossover(self.emaFast,self.emaSlow):\n",
    "            sl = price - price * 0.05\n",
    "            tp = price + price * 0.04\n",
    "            self.buy(sl = sl, tp = tp)\n",
    "        elif crossover(self.emaSlow,self.emaFast):\n",
    "            sl = price + price * 0.04\n",
    "            tp = price - price * 0.05\n",
    "            self.sell(sl = sl, tp = tp)"
   ]
  },
  {
   "cell_type": "code",
   "execution_count": 44,
   "id": "b6bc0b91-a056-4f48-896d-b3afc3748143",
   "metadata": {},
   "outputs": [],
   "source": [
    "class EmaCross(Strategy): #v2\n",
    "    emaF=14\n",
    "    emaS=63\n",
    "    \n",
    "    def init(self):\n",
    "        close = self.data.Close\n",
    "        self.emaFast = self.I(talib.EMA, close, self.emaF)\n",
    "        self.emaSlow = self.I(talib.EMA, close, self.emaS)\n",
    "        \n",
    "    def next(self):\n",
    "        price = self.data.Close\n",
    "        if crossover(self.emaFast,self.emaSlow):\n",
    "            self.buy()\n",
    "        elif crossover(self.emaSlow,self.emaFast):\n",
    "            self.sell()"
   ]
  },
  {
   "cell_type": "code",
   "execution_count": 45,
   "id": "4730f7fb-8468-48cb-a9e2-ccae2f67246d",
   "metadata": {},
   "outputs": [],
   "source": [
    "def resampleOHLC(df, interval):\n",
    "    df = df.resample(interval).agg({'Open':'first','High':'max','Low':'min','Close':'last'})\n",
    "    return df"
   ]
  },
  {
   "cell_type": "code",
   "execution_count": 46,
   "id": "043cfbc4-3632-4cf0-baef-384942bd6998",
   "metadata": {},
   "outputs": [],
   "source": [
    "def BT(interval):\n",
    "\n",
    "    returns = []\n",
    "    \n",
    "    for symbol in symbols.name:\n",
    "        qry = f\"\"\"SELECT * FROM '{symbol}'\n",
    "        WHERE Date < '{pd.to_datetime('today') - timedelta(days=30)}'\"\"\"#80days-30\n",
    "        df = pd.read_sql(qry, engine).set_index('Date')\n",
    "        df.index = pd.to_datetime(df.index)\n",
    "        df = resampleOHLC(df, interval)\n",
    "        bt = Backtest(df, EmaCross, exclusive_orders=True, cash=1000, commission=0.0015)\n",
    "        output = bt.run()\n",
    "        returns.append(output['Return [%]'])\n",
    "        \n",
    "    frame = pd.DataFrame(returns, index=symbols.name, columns=['ret'])\n",
    "    top_5 = frame.nlargest(5,'ret')\n",
    "    return top_5, interval"
   ]
  },
  {
   "cell_type": "code",
   "execution_count": 47,
   "id": "9eeb2cde-519a-4a8e-aefb-095ac6b4bcdb",
   "metadata": {},
   "outputs": [
    {
     "name": "stderr",
     "output_type": "stream",
     "text": [
      "C:\\Users\\JulioIsaacMR\\AppData\\Local\\Temp\\ipykernel_15824\\4073476979.py:11: UserWarning: Some prices are larger than initial cash value. Note that fractional trading is not supported. If you want to trade Bitcoin, increase initial cash, or trade μBTC or satoshis instead (GH-134).\n",
      "  bt = Backtest(df, EmaCross, exclusive_orders=True, cash=1000, commission=0.0015)\n",
      "C:\\Users\\JulioIsaacMR\\AppData\\Local\\Temp\\ipykernel_15824\\4073476979.py:11: UserWarning: Some prices are larger than initial cash value. Note that fractional trading is not supported. If you want to trade Bitcoin, increase initial cash, or trade μBTC or satoshis instead (GH-134).\n",
      "  bt = Backtest(df, EmaCross, exclusive_orders=True, cash=1000, commission=0.0015)\n",
      "C:\\Users\\JulioIsaacMR\\AppData\\Local\\Temp\\ipykernel_15824\\4073476979.py:11: UserWarning: Some prices are larger than initial cash value. Note that fractional trading is not supported. If you want to trade Bitcoin, increase initial cash, or trade μBTC or satoshis instead (GH-134).\n",
      "  bt = Backtest(df, EmaCross, exclusive_orders=True, cash=1000, commission=0.0015)\n",
      "C:\\Users\\JulioIsaacMR\\AppData\\Local\\Temp\\ipykernel_15824\\4073476979.py:11: UserWarning: Some prices are larger than initial cash value. Note that fractional trading is not supported. If you want to trade Bitcoin, increase initial cash, or trade μBTC or satoshis instead (GH-134).\n",
      "  bt = Backtest(df, EmaCross, exclusive_orders=True, cash=1000, commission=0.0015)\n"
     ]
    }
   ],
   "source": [
    "top_5, interval = BT('1h')  #Todat - 80 until today - 30"
   ]
  },
  {
   "cell_type": "code",
   "execution_count": 48,
   "id": "a7774e6b-ab24-48f1-9520-7bef260e57d5",
   "metadata": {},
   "outputs": [
    {
     "data": {
      "text/html": [
       "<div>\n",
       "<style scoped>\n",
       "    .dataframe tbody tr th:only-of-type {\n",
       "        vertical-align: middle;\n",
       "    }\n",
       "\n",
       "    .dataframe tbody tr th {\n",
       "        vertical-align: top;\n",
       "    }\n",
       "\n",
       "    .dataframe thead th {\n",
       "        text-align: right;\n",
       "    }\n",
       "</style>\n",
       "<table border=\"1\" class=\"dataframe\">\n",
       "  <thead>\n",
       "    <tr style=\"text-align: right;\">\n",
       "      <th></th>\n",
       "      <th>ret</th>\n",
       "    </tr>\n",
       "    <tr>\n",
       "      <th>name</th>\n",
       "      <th></th>\n",
       "    </tr>\n",
       "  </thead>\n",
       "  <tbody>\n",
       "    <tr>\n",
       "      <th>BAKEUSDT</th>\n",
       "      <td>94.885537</td>\n",
       "    </tr>\n",
       "    <tr>\n",
       "      <th>IOTAUSDT</th>\n",
       "      <td>26.018279</td>\n",
       "    </tr>\n",
       "    <tr>\n",
       "      <th>ETCUSDT</th>\n",
       "      <td>21.445185</td>\n",
       "    </tr>\n",
       "    <tr>\n",
       "      <th>MATICUSDT</th>\n",
       "      <td>12.111940</td>\n",
       "    </tr>\n",
       "    <tr>\n",
       "      <th>SOLUSDT</th>\n",
       "      <td>7.023412</td>\n",
       "    </tr>\n",
       "  </tbody>\n",
       "</table>\n",
       "</div>"
      ],
      "text/plain": [
       "                 ret\n",
       "name                \n",
       "BAKEUSDT   94.885537\n",
       "IOTAUSDT   26.018279\n",
       "ETCUSDT    21.445185\n",
       "MATICUSDT  12.111940\n",
       "SOLUSDT     7.023412"
      ]
     },
     "execution_count": 48,
     "metadata": {},
     "output_type": "execute_result"
    }
   ],
   "source": [
    "top_5"
   ]
  },
  {
   "cell_type": "code",
   "execution_count": 55,
   "id": "2e1214ad-89bc-40d5-8a0f-7fcb83eff9a8",
   "metadata": {},
   "outputs": [],
   "source": [
    "def validate(top_5, interval):\n",
    "\n",
    "    returns = []\n",
    "    for symbol in top_5.index:\n",
    "        qry = f\"\"\"SELECT * FROM '{symbol}'\n",
    "        WHERE Date > '{pd.to_datetime('today') - timedelta(days=10)}'\"\"\"#last 10 days\n",
    "        df = pd.read_sql(qry, engine).set_index('Date')\n",
    "        df.index = pd.to_datetime(df.index)\n",
    "        df = resampleOHLC(df, interval)\n",
    "        bt = Backtest(df, EmaCross, exclusive_orders=True, cash=1000, commission=0.0015)\n",
    "        output = bt.run()\n",
    "        returns.append(output['Return [%]'])\n",
    "    outcome = pd.DataFrame(returns, index=top_5.index, columns=['ret'])\n",
    "    return outcome\n",
    "    \n"
   ]
  },
  {
   "cell_type": "code",
   "execution_count": 56,
   "id": "a7d71b54-f189-42f2-84b2-19e4c557b6c0",
   "metadata": {},
   "outputs": [
    {
     "data": {
      "text/html": [
       "<div>\n",
       "<style scoped>\n",
       "    .dataframe tbody tr th:only-of-type {\n",
       "        vertical-align: middle;\n",
       "    }\n",
       "\n",
       "    .dataframe tbody tr th {\n",
       "        vertical-align: top;\n",
       "    }\n",
       "\n",
       "    .dataframe thead th {\n",
       "        text-align: right;\n",
       "    }\n",
       "</style>\n",
       "<table border=\"1\" class=\"dataframe\">\n",
       "  <thead>\n",
       "    <tr style=\"text-align: right;\">\n",
       "      <th></th>\n",
       "      <th>ret</th>\n",
       "    </tr>\n",
       "    <tr>\n",
       "      <th>name</th>\n",
       "      <th></th>\n",
       "    </tr>\n",
       "  </thead>\n",
       "  <tbody>\n",
       "    <tr>\n",
       "      <th>BAKEUSDT</th>\n",
       "      <td>12.608540</td>\n",
       "    </tr>\n",
       "    <tr>\n",
       "      <th>IOTAUSDT</th>\n",
       "      <td>6.940620</td>\n",
       "    </tr>\n",
       "    <tr>\n",
       "      <th>ETCUSDT</th>\n",
       "      <td>-0.605251</td>\n",
       "    </tr>\n",
       "    <tr>\n",
       "      <th>MATICUSDT</th>\n",
       "      <td>-3.345868</td>\n",
       "    </tr>\n",
       "    <tr>\n",
       "      <th>SOLUSDT</th>\n",
       "      <td>4.162005</td>\n",
       "    </tr>\n",
       "  </tbody>\n",
       "</table>\n",
       "</div>"
      ],
      "text/plain": [
       "                 ret\n",
       "name                \n",
       "BAKEUSDT   12.608540\n",
       "IOTAUSDT    6.940620\n",
       "ETCUSDT    -0.605251\n",
       "MATICUSDT  -3.345868\n",
       "SOLUSDT     4.162005"
      ]
     },
     "execution_count": 56,
     "metadata": {},
     "output_type": "execute_result"
    }
   ],
   "source": [
    "validate(top_5, interval)"
   ]
  },
  {
   "cell_type": "code",
   "execution_count": 42,
   "id": "595f4a92-1853-4b9d-92c0-58d91b125124",
   "metadata": {},
   "outputs": [],
   "source": [
    "def run(interval):\n",
    "    bt_result, interval = BT(interval)\n",
    "    valid = validate(bt_result,interval)\n",
    "    return valid.ret.mean()"
   ]
  },
  {
   "cell_type": "code",
   "execution_count": 36,
   "id": "fcee550a-2e4b-4773-8845-75a31151bb3c",
   "metadata": {},
   "outputs": [
    {
     "name": "stderr",
     "output_type": "stream",
     "text": [
      "C:\\Users\\JulioIsaacMR\\AppData\\Local\\Temp\\ipykernel_15824\\112464906.py:11: UserWarning: Some prices are larger than initial cash value. Note that fractional trading is not supported. If you want to trade Bitcoin, increase initial cash, or trade μBTC or satoshis instead (GH-134).\n",
      "  bt = Backtest(df, EmaCross, exclusive_orders=True, cash=1000, commission=0.0015)\n",
      "C:\\Users\\JulioIsaacMR\\AppData\\Local\\Temp\\ipykernel_15824\\112464906.py:11: UserWarning: Some prices are larger than initial cash value. Note that fractional trading is not supported. If you want to trade Bitcoin, increase initial cash, or trade μBTC or satoshis instead (GH-134).\n",
      "  bt = Backtest(df, EmaCross, exclusive_orders=True, cash=1000, commission=0.0015)\n",
      "C:\\Users\\JulioIsaacMR\\AppData\\Local\\Temp\\ipykernel_15824\\112464906.py:11: UserWarning: Some prices are larger than initial cash value. Note that fractional trading is not supported. If you want to trade Bitcoin, increase initial cash, or trade μBTC or satoshis instead (GH-134).\n",
      "  bt = Backtest(df, EmaCross, exclusive_orders=True, cash=1000, commission=0.0015)\n",
      "C:\\Users\\JulioIsaacMR\\AppData\\Local\\Temp\\ipykernel_15824\\112464906.py:11: UserWarning: Some prices are larger than initial cash value. Note that fractional trading is not supported. If you want to trade Bitcoin, increase initial cash, or trade μBTC or satoshis instead (GH-134).\n",
      "  bt = Backtest(df, EmaCross, exclusive_orders=True, cash=1000, commission=0.0015)\n",
      "C:\\Users\\JulioIsaacMR\\AppData\\Local\\Temp\\ipykernel_15824\\4129370874.py:10: UserWarning: Some prices are larger than initial cash value. Note that fractional trading is not supported. If you want to trade Bitcoin, increase initial cash, or trade μBTC or satoshis instead (GH-134).\n",
      "  bt = Backtest(df, EmaCross, exclusive_orders=True, cash=1000, commission=0.0015)\n"
     ]
    },
    {
     "data": {
      "text/plain": [
       "-5.940460294100019"
      ]
     },
     "execution_count": 36,
     "metadata": {},
     "output_type": "execute_result"
    }
   ],
   "source": [
    "#Test\n",
    "#run('15min')"
   ]
  },
  {
   "cell_type": "code",
   "execution_count": 43,
   "id": "8a110b3c-28b7-4e57-b0fb-1e51af59d20a",
   "metadata": {},
   "outputs": [
    {
     "name": "stdout",
     "output_type": "stream",
     "text": [
      "return for 15min\n"
     ]
    },
    {
     "name": "stderr",
     "output_type": "stream",
     "text": [
      "C:\\Users\\JulioIsaacMR\\AppData\\Local\\Temp\\ipykernel_15824\\112464906.py:11: UserWarning: Some prices are larger than initial cash value. Note that fractional trading is not supported. If you want to trade Bitcoin, increase initial cash, or trade μBTC or satoshis instead (GH-134).\n",
      "  bt = Backtest(df, EmaCross, exclusive_orders=True, cash=1000, commission=0.0015)\n",
      "C:\\Users\\JulioIsaacMR\\AppData\\Local\\Temp\\ipykernel_15824\\112464906.py:11: UserWarning: Some prices are larger than initial cash value. Note that fractional trading is not supported. If you want to trade Bitcoin, increase initial cash, or trade μBTC or satoshis instead (GH-134).\n",
      "  bt = Backtest(df, EmaCross, exclusive_orders=True, cash=1000, commission=0.0015)\n",
      "C:\\Users\\JulioIsaacMR\\AppData\\Local\\Temp\\ipykernel_15824\\112464906.py:11: UserWarning: Some prices are larger than initial cash value. Note that fractional trading is not supported. If you want to trade Bitcoin, increase initial cash, or trade μBTC or satoshis instead (GH-134).\n",
      "  bt = Backtest(df, EmaCross, exclusive_orders=True, cash=1000, commission=0.0015)\n",
      "C:\\Users\\JulioIsaacMR\\AppData\\Local\\Temp\\ipykernel_15824\\112464906.py:11: UserWarning: Some prices are larger than initial cash value. Note that fractional trading is not supported. If you want to trade Bitcoin, increase initial cash, or trade μBTC or satoshis instead (GH-134).\n",
      "  bt = Backtest(df, EmaCross, exclusive_orders=True, cash=1000, commission=0.0015)\n",
      "C:\\Users\\JulioIsaacMR\\AppData\\Local\\Temp\\ipykernel_15824\\4129370874.py:10: UserWarning: Some prices are larger than initial cash value. Note that fractional trading is not supported. If you want to trade Bitcoin, increase initial cash, or trade μBTC or satoshis instead (GH-134).\n",
      "  bt = Backtest(df, EmaCross, exclusive_orders=True, cash=1000, commission=0.0015)\n"
     ]
    },
    {
     "name": "stdout",
     "output_type": "stream",
     "text": [
      "-5.940460294100019\n",
      "return for 30min\n"
     ]
    },
    {
     "name": "stderr",
     "output_type": "stream",
     "text": [
      "C:\\Users\\JulioIsaacMR\\AppData\\Local\\Temp\\ipykernel_15824\\112464906.py:11: UserWarning: Some prices are larger than initial cash value. Note that fractional trading is not supported. If you want to trade Bitcoin, increase initial cash, or trade μBTC or satoshis instead (GH-134).\n",
      "  bt = Backtest(df, EmaCross, exclusive_orders=True, cash=1000, commission=0.0015)\n",
      "C:\\Users\\JulioIsaacMR\\AppData\\Local\\Temp\\ipykernel_15824\\112464906.py:11: UserWarning: Some prices are larger than initial cash value. Note that fractional trading is not supported. If you want to trade Bitcoin, increase initial cash, or trade μBTC or satoshis instead (GH-134).\n",
      "  bt = Backtest(df, EmaCross, exclusive_orders=True, cash=1000, commission=0.0015)\n",
      "C:\\Users\\JulioIsaacMR\\AppData\\Local\\Temp\\ipykernel_15824\\112464906.py:11: UserWarning: Some prices are larger than initial cash value. Note that fractional trading is not supported. If you want to trade Bitcoin, increase initial cash, or trade μBTC or satoshis instead (GH-134).\n",
      "  bt = Backtest(df, EmaCross, exclusive_orders=True, cash=1000, commission=0.0015)\n",
      "C:\\Users\\JulioIsaacMR\\AppData\\Local\\Temp\\ipykernel_15824\\112464906.py:11: UserWarning: Some prices are larger than initial cash value. Note that fractional trading is not supported. If you want to trade Bitcoin, increase initial cash, or trade μBTC or satoshis instead (GH-134).\n",
      "  bt = Backtest(df, EmaCross, exclusive_orders=True, cash=1000, commission=0.0015)\n"
     ]
    },
    {
     "name": "stdout",
     "output_type": "stream",
     "text": [
      "-18.335951056000038\n",
      "return for 45min\n"
     ]
    },
    {
     "name": "stderr",
     "output_type": "stream",
     "text": [
      "C:\\Users\\JulioIsaacMR\\AppData\\Local\\Temp\\ipykernel_15824\\112464906.py:11: UserWarning: Some prices are larger than initial cash value. Note that fractional trading is not supported. If you want to trade Bitcoin, increase initial cash, or trade μBTC or satoshis instead (GH-134).\n",
      "  bt = Backtest(df, EmaCross, exclusive_orders=True, cash=1000, commission=0.0015)\n",
      "C:\\Users\\JulioIsaacMR\\AppData\\Local\\Temp\\ipykernel_15824\\112464906.py:11: UserWarning: Some prices are larger than initial cash value. Note that fractional trading is not supported. If you want to trade Bitcoin, increase initial cash, or trade μBTC or satoshis instead (GH-134).\n",
      "  bt = Backtest(df, EmaCross, exclusive_orders=True, cash=1000, commission=0.0015)\n",
      "C:\\Users\\JulioIsaacMR\\AppData\\Local\\Temp\\ipykernel_15824\\112464906.py:11: UserWarning: Some prices are larger than initial cash value. Note that fractional trading is not supported. If you want to trade Bitcoin, increase initial cash, or trade μBTC or satoshis instead (GH-134).\n",
      "  bt = Backtest(df, EmaCross, exclusive_orders=True, cash=1000, commission=0.0015)\n",
      "C:\\Users\\JulioIsaacMR\\AppData\\Local\\Temp\\ipykernel_15824\\112464906.py:11: UserWarning: Some prices are larger than initial cash value. Note that fractional trading is not supported. If you want to trade Bitcoin, increase initial cash, or trade μBTC or satoshis instead (GH-134).\n",
      "  bt = Backtest(df, EmaCross, exclusive_orders=True, cash=1000, commission=0.0015)\n"
     ]
    },
    {
     "name": "stdout",
     "output_type": "stream",
     "text": [
      "-12.283164443700006\n",
      "return for 60min\n"
     ]
    },
    {
     "name": "stderr",
     "output_type": "stream",
     "text": [
      "C:\\Users\\JulioIsaacMR\\AppData\\Local\\Temp\\ipykernel_15824\\112464906.py:11: UserWarning: Some prices are larger than initial cash value. Note that fractional trading is not supported. If you want to trade Bitcoin, increase initial cash, or trade μBTC or satoshis instead (GH-134).\n",
      "  bt = Backtest(df, EmaCross, exclusive_orders=True, cash=1000, commission=0.0015)\n",
      "C:\\Users\\JulioIsaacMR\\AppData\\Local\\Temp\\ipykernel_15824\\112464906.py:11: UserWarning: Some prices are larger than initial cash value. Note that fractional trading is not supported. If you want to trade Bitcoin, increase initial cash, or trade μBTC or satoshis instead (GH-134).\n",
      "  bt = Backtest(df, EmaCross, exclusive_orders=True, cash=1000, commission=0.0015)\n",
      "C:\\Users\\JulioIsaacMR\\AppData\\Local\\Temp\\ipykernel_15824\\112464906.py:11: UserWarning: Some prices are larger than initial cash value. Note that fractional trading is not supported. If you want to trade Bitcoin, increase initial cash, or trade μBTC or satoshis instead (GH-134).\n",
      "  bt = Backtest(df, EmaCross, exclusive_orders=True, cash=1000, commission=0.0015)\n",
      "C:\\Users\\JulioIsaacMR\\AppData\\Local\\Temp\\ipykernel_15824\\112464906.py:11: UserWarning: Some prices are larger than initial cash value. Note that fractional trading is not supported. If you want to trade Bitcoin, increase initial cash, or trade μBTC or satoshis instead (GH-134).\n",
      "  bt = Backtest(df, EmaCross, exclusive_orders=True, cash=1000, commission=0.0015)\n"
     ]
    },
    {
     "name": "stdout",
     "output_type": "stream",
     "text": [
      "-28.5682427726\n"
     ]
    }
   ],
   "source": [
    "#Test 15, 30, 45, 60 [min]\n",
    "int_scale = 'min'\n",
    "\n",
    "for i in range (15,75,15):\n",
    "    print('return for '+str(i) +int_scale)\n",
    "    print(run(str(i)+ int_scale))"
   ]
  },
  {
   "cell_type": "code",
   "execution_count": null,
   "id": "affa9133-50b1-4beb-978d-91f8012a4d7e",
   "metadata": {},
   "outputs": [],
   "source": []
  }
 ],
 "metadata": {
  "kernelspec": {
   "display_name": "Python 3 (ipykernel)",
   "language": "python",
   "name": "python3"
  },
  "language_info": {
   "codemirror_mode": {
    "name": "ipython",
    "version": 3
   },
   "file_extension": ".py",
   "mimetype": "text/x-python",
   "name": "python",
   "nbconvert_exporter": "python",
   "pygments_lexer": "ipython3",
   "version": "3.11.5"
  }
 },
 "nbformat": 4,
 "nbformat_minor": 5
}
