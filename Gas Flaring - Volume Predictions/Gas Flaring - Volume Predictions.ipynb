{
 "cells": [
  {
   "cell_type": "markdown",
   "id": "a58a5a49",
   "metadata": {},
   "source": [
    "<span style=\"font-size:20px; color:#F1596E; font-weight:bold\"> Paso 1: Formulación del problema. <br></span>\n",
    "\n",
    "<span style=\"font-size:15px; color:#000000; font-style:italic\"> En una sociedad contemporánea en donde el término de ``sostenibilidad'' toma cada vez más relevancia, el gas natural sale a flote por ser el fluido hidrocarburo cuyo proceso de combustión provee la menor emisión de GEI en comparación con otros combustibles fósiles. </span>\n",
    "\n",
    "<span style=\"font-size:15px; color:#000000; font-style:italic\"> En ese sentido, la generación de energía eléctrica a partir de dicho hidrocarburo ha vuelto a ser una alternativa altamente atractiva para satisfacer las crecientes demandas energéticas de la civilización humana a lo largo y ancho del planeta Tierra. Sin embargo, ¿en verdad esta fuente natural de energía es aprovechada de forma eficiente y racional en México? </span>\n",
    "\n",
    "<span style=\"font-size:15px; color:#000000; font-style:italic\"> Aun cuando, idealmente, la respuesta esperada sobre este cuestionamiento debería ser positiva, cifras recientes revelan que, en el año 2022, más de una décima parte de los hidrocarburos gaseosos producidos en territorio nacional fueron destinados a las actividades petroleras de quema y venteo, lo cual se identifica como una emergente área de oportunidad para sacar provecho de esta fuente de energía no renovable. </span>\n",
    "\n",
    "<span style=\"font-size:15px; color:#000000; font-style:italic\"> Es evidente que, en un mundo donde lo único constante es el cambio, todas las industrias tienden a evolucionar. Un ejemplo de ello es la industria petrolera que, hoy día, redirige su rumbo adoptando prácticas más amigables con el medioambiente y da paso a la nueva “industria petrolera verde”. Algo similar sucede con el mercado financiero en donde, con la llegada de las monedas digitales, se ha transformado radicalmente la forma en que se realizan las transacciones bancarias. </span>\n",
    "\n",
    "<span style=\"font-size:15px; color:#000000; font-style:italic\"> Desde esta perspectiva, a fin de mantenerse a la vanguardia del mundo actual, surge una nueva iniciativa que promueve la reducción sustancial del gas de venteo en la que este se vislumbra como el principal recurso energético para alimentar clústeres de minería de criptomonedas in-situ y, de esa manera, generar ingresos económicos extraordinarios para las compañías petroleras. <br> </span>\n",
    "\n",
    "\n"
   ]
  },
  {
   "cell_type": "markdown",
   "id": "7ac6bce0",
   "metadata": {},
   "source": [
    "<span style=\"font-size:18px; color:#000000; font-weight:bold\"> Carga de las librerías a ocupar y establecimiento de la semilla. </span>"
   ]
  },
  {
   "cell_type": "code",
   "execution_count": null,
   "id": "86d03831",
   "metadata": {},
   "outputs": [],
   "source": [
    "seedValue = 0\n",
    "\n",
    "import os;   os.environ['PYTHONHASHSEED']=str(seedValue)\n",
    "import calendar\n",
    "import datetime as date\n",
    "import matplotlib.pyplot as plt\n",
    "import numpy as np\n",
    "import pandas as pd\n",
    "import random\n",
    "import scipy as sc\n",
    "import seaborn as sns\n",
    "import tensorflow as tf\n",
    "import time\n",
    "\n",
    "from datetime import date, datetime, timedelta\n",
    "from sklearn.linear_model import LinearRegression\n",
    "from sklearn.ensemble import RandomForestRegressor\n",
    "from sklearn.multioutput import MultiOutputRegressor\n",
    "from keras.models import Sequential\n",
    "from keras.layers import LSTM\n",
    "from keras.layers import Dense\n",
    "from sklearn.metrics import mean_squared_error\n",
    "\n",
    "os.environ['PYTHONHASHSEED'] = str(seedValue)\n",
    "tf.random.set_seed(seedValue)\n",
    "np.random.seed(seedValue)\n",
    "random.seed(seedValue)\n",
    "\n",
    "np.set_printoptions(suppress = True, precision = 2)"
   ]
  },
  {
   "attachments": {},
   "cell_type": "markdown",
   "id": "ee796f74",
   "metadata": {},
   "source": [
    "<span style=\"font-size:20px; color:#1FD6C0; font-weight:bold\"> Paso 2: Recopilación\n",
    "de información. </span>\n",
    "\n",
    "<span style=\"font-size:18px; color:#000000; font-weight:bold\"> Producción de gas natural en México. </span>"
   ]
  },
  {
   "cell_type": "code",
   "execution_count": null,
   "id": "8bca0a9f",
   "metadata": {},
   "outputs": [],
   "source": [
    "df_PGData = pd.read_excel(\"GeneralData.xlsx\", sheet_name = \"ProduccionGas\")\n",
    "\n",
    "print(df_PGData)"
   ]
  },
  {
   "cell_type": "markdown",
   "id": "1f0bce0e",
   "metadata": {},
   "source": [
    "<span style=\"font-size:20px; color:#FFB356; font-weight:bold\"> Paso 3: Preparación de datos.</span>\n",
    "\n",
    "<span style=\"font-size:18px; color:#000000; font-weight:bold\"> Producción de gas natural en México. </span>"
   ]
  },
  {
   "cell_type": "code",
   "execution_count": null,
   "id": "9b8c4148",
   "metadata": {},
   "outputs": [],
   "source": [
    "for col in df_PGData:\n",
    "    \n",
    "    print(col)"
   ]
  },
  {
   "cell_type": "code",
   "execution_count": null,
   "id": "7a00f294",
   "metadata": {},
   "outputs": [],
   "source": [
    "columnCount = len(df_PGData.columns)\n",
    "dataCount   = df_PGData[df_PGData.columns[0]].count()\n",
    "\n",
    "print(\"La base de datos cuenta con: \", columnCount, \"columnas.\")\n",
    "print(\"El set de datos tiene un total de \", dataCount, \"entradas por columna.\")"
   ]
  },
  {
   "cell_type": "code",
   "execution_count": null,
   "id": "38f95d73",
   "metadata": {},
   "outputs": [],
   "source": [
    "dataBank = []\n",
    "\n",
    "for column in df_PGData:\n",
    "    \n",
    "    columnName     = column\n",
    "    nullValues     = 100.0 * np.sum(df_PGData[column].isna()) / dataCount\n",
    "    dataType       = df_PGData[column].dtype\n",
    "    variedData     = len(df_PGData[column].unique())\n",
    "    minValue       = np.min(df_PGData[column].astype(str).to_numpy())\n",
    "    maxValue       = np.max(df_PGData[column].astype(str).to_numpy())\n",
    "    dataBank.append([columnName, nullValues, dataType, variedData, minValue, maxValue])\n",
    "\n",
    "dataBank    = np.array(dataBank)\n",
    "\n",
    "dataBank_df = pd.DataFrame(dataBank, columns = ['Columna', 'Datos nulos', 'Tipo de dato', 'Datos diferentes',\n",
    "                                                'Valor mínimo', 'Valor máximo'])\n",
    "\n",
    "print(dataBank_df)"
   ]
  },
  {
   "cell_type": "code",
   "execution_count": null,
   "id": "67360188",
   "metadata": {},
   "outputs": [],
   "source": [
    "columns_to_ignore  = [\"Cuenca\",\"Ubicación\",\"Campo\",\"Operador\",\"Nitrógeno (MMpcd)\"]\n",
    "\n",
    "df_PGData          = df_PGData.drop(columns=columns_to_ignore, inplace=False).copy(deep=True)\n",
    "\n",
    "print(df_PGData)"
   ]
  },
  {
   "cell_type": "code",
   "execution_count": null,
   "id": "a946b16d",
   "metadata": {},
   "outputs": [],
   "source": [
    "datesOne = df_PGData.drop_duplicates(subset=\"Fecha\")\n",
    "\n",
    "datesOne = pd.DataFrame(datesOne).to_numpy()\n",
    "\n",
    "print(datesOne)"
   ]
  },
  {
   "cell_type": "code",
   "execution_count": null,
   "id": "b76d4e7a",
   "metadata": {
    "scrolled": true
   },
   "outputs": [],
   "source": [
    "MGPSum = []\n",
    "\n",
    "for i in range (0,len(datesOne)):\n",
    "\n",
    "    sumOne   = df_PGData.loc[df_PGData[\"Fecha\"] == str(datesOne[i,0]), \"Gas natural sin nitrógeno (MMpcd)\"].sum()\n",
    "    MGPSum.append(sumOne)\n",
    "    \n",
    "PGData      = np.array((datesOne[:,0],MGPSum)); PGData = np.transpose(PGData)\n",
    "\n",
    "print(PGData)"
   ]
  },
  {
   "cell_type": "markdown",
   "id": "70d9cc80",
   "metadata": {},
   "source": [
    "<span style=\"font-size:20px; color:#1FD6C0; font-weight:bold\"> Paso 2: Recopilación\n",
    "de información. </span>\n",
    "\n",
    "<span style=\"font-size:18px; color:#000000; font-weight:bold\"> Venteo de gas natural. </span>"
   ]
  },
  {
   "cell_type": "code",
   "execution_count": null,
   "id": "f9adc10c",
   "metadata": {},
   "outputs": [],
   "source": [
    "df_VGData = pd.read_excel(\"GeneralData.xlsx\", sheet_name=\"VenteoGas\")\n",
    "\n",
    "print(df_VGData)"
   ]
  },
  {
   "cell_type": "markdown",
   "id": "06325718",
   "metadata": {},
   "source": [
    "<span style=\"font-size:20px; color:#FFB356; font-weight:bold\"> Paso 3: Preparación de datos.</span>\n",
    "\n",
    "<span style=\"font-size:18px; color:#000000; font-weight:bold\"> Venteo de gas natural. </span>"
   ]
  },
  {
   "cell_type": "code",
   "execution_count": null,
   "id": "98ea9985",
   "metadata": {},
   "outputs": [],
   "source": [
    "for col in df_VGData:\n",
    "    \n",
    "    print(col)"
   ]
  },
  {
   "cell_type": "code",
   "execution_count": null,
   "id": "f054a39f",
   "metadata": {},
   "outputs": [],
   "source": [
    "columnCount   = len(df_VGData.columns)\n",
    "dataCount     = df_VGData[df_VGData.columns[0]].count()\n",
    "\n",
    "print(\"La base de datos cuenta con: \", columnCount, \"columnas.\")\n",
    "print(\"El set de datos tiene un total de \", dataCount, \"entradas por columna.\")"
   ]
  },
  {
   "cell_type": "code",
   "execution_count": null,
   "id": "f427aaaf",
   "metadata": {},
   "outputs": [],
   "source": [
    "dataBank = []\n",
    "\n",
    "for column in df_VGData:\n",
    "    \n",
    "    columnName  = column\n",
    "    nullValues  = 100.0 * np.sum(df_VGData[column].isna()) / dataCount\n",
    "    dataType    = df_VGData[column].dtype\n",
    "    variedData  = len(df_VGData[column].unique())\n",
    "    minValue    = np.min(df_VGData[column].astype(str).to_numpy())\n",
    "    maxValue    = np.max(df_VGData[column].astype(str).to_numpy())\n",
    "    dataBank.append([columnName, nullValues, dataType, variedData, minValue, maxValue])\n",
    "\n",
    "dataBank    = np.array(dataBank)\n",
    "\n",
    "dataBank_df = pd.DataFrame(dataBank, columns = ['Columna', 'Datos nulos', 'Tipo de dato', 'Datos diferentes',\n",
    "                                                'Valor mínimo', 'Valor máximo'])\n",
    "\n",
    "print(dataBank_df)"
   ]
  },
  {
   "cell_type": "code",
   "execution_count": null,
   "id": "928f7cd7",
   "metadata": {},
   "outputs": [],
   "source": [
    "columns_to_ignore = [\"S.No.\",\"Latitude\",\"Longitude\",\"bcm\",\"MMscfd\",\"Field  Type\",\"Field  Operator\",\t\n",
    "                      \"Field Name\",\"Location\",\"Flare Level\"]\n",
    "df_VGData          = df_VGData.drop(columns=columns_to_ignore, inplace=False).copy(deep=True)\n",
    "\n",
    "print(df_VGData)"
   ]
  },
  {
   "cell_type": "code",
   "execution_count": null,
   "id": "c5c89b53",
   "metadata": {},
   "outputs": [],
   "source": [
    "datesTwo = df_VGData.drop_duplicates(subset=\"Year\")\n",
    "\n",
    "datesTwo = pd.DataFrame(datesTwo).to_numpy()\n",
    "\n",
    "print(datesTwo)"
   ]
  },
  {
   "cell_type": "code",
   "execution_count": null,
   "id": "e1915725",
   "metadata": {},
   "outputs": [],
   "source": [
    "dateFormat = []\n",
    "\n",
    "for j in range (0, len(datesTwo)):\n",
    "    \n",
    "    YYMMDD = datetime((int(datesTwo[j,1])), 1, 1, 0, 0, 0)\n",
    "    dateFormat.append(str(YYMMDD))\n",
    "    \n",
    "pd.DataFrame(dateFormat).to_numpy()\n",
    "\n",
    "dateFormat = np.transpose(dateFormat)\n",
    "\n",
    "print(len(dateFormat))\n",
    "\n",
    "print(dateFormat)"
   ]
  },
  {
   "cell_type": "code",
   "execution_count": null,
   "id": "0cb59fee",
   "metadata": {},
   "outputs": [],
   "source": [
    "WGVSum = []\n",
    "\n",
    "for i in range (0,len(datesTwo)):\n",
    "\n",
    "    SumTwo   = df_VGData.loc[df_VGData[\"Year\"] == datesTwo[i,1], \"Flaring Volumen (MMm3)\"].sum()\n",
    "    SumTwo   = (SumTwo * 35.315) / (365 + int(calendar.isleap(datesTwo[i,1])))\n",
    "    WGVSum.append(SumTwo)\n",
    "    \n",
    "PVWorldData = np.array((dateFormat[:],WGVSum)); PVWorldData = np.transpose(PVWorldData)\n",
    "\n",
    "print(PVWorldData)"
   ]
  },
  {
   "cell_type": "code",
   "execution_count": null,
   "id": "eda97691",
   "metadata": {},
   "outputs": [],
   "source": [
    "ULGFSum = []\n",
    "\n",
    "countries = [\"Argentina\",\"Bolivia\",\"Brazil\",\"Chile\",\"Colombia\",\"Cuba\",\n",
    "             \"Ecuador\",\"Guatemala\",\"Mexico\",\"Peru\",\"United States\",\"Venezuela, RB\"]\n",
    "\n",
    "for i in range (0,len(datesTwo)):\n",
    "\n",
    "    SumThree   = df_VGData.loc[(df_VGData[\"Year\"] == datesTwo[i,1]) & (df_VGData[\"COUNTRY\"].isin(countries)), \"Flaring Volumen (MMm3)\"].sum()\n",
    "    SumThree   = (SumThree * 35.315) / (365 + int(calendar.isleap(datesTwo[i,1])))\n",
    "    ULGFSum.append(SumThree)\n",
    "    \n",
    "PVWUSALATAMData = np.array((dateFormat[:],ULGFSum)); PVWUSALATAMData = np.transpose(PVWUSALATAMData)\n",
    "\n",
    "print(PVWUSALATAMData)"
   ]
  },
  {
   "cell_type": "code",
   "execution_count": null,
   "id": "a1d88602",
   "metadata": {},
   "outputs": [],
   "source": [
    "MFGSum = []\n",
    "\n",
    "for i in range (0,len(datesTwo)):\n",
    "\n",
    "    SumFour    = df_VGData.loc[(df_VGData[\"Year\"] == datesTwo[i,1]) & ((df_VGData[\"COUNTRY\"] == \"Mexico\")), \"Flaring Volumen (MMm3)\"].sum()\n",
    "    SumFour   = (SumFour * 35.315) / (365 + int(calendar.isleap(datesTwo[i,1])))\n",
    "    MFGSum.append(SumFour)\n",
    "    \n",
    "PVMexicoData = np.array((dateFormat[:],MFGSum)); PVMexicoData = np.transpose(PVMexicoData)\n",
    "\n",
    "print(PVMexicoData)"
   ]
  },
  {
   "cell_type": "markdown",
   "id": "75a0e4c8",
   "metadata": {},
   "source": [
    "<span style=\"font-size:20px; color:#1FD6C0; font-weight:bold\"> Paso 2: Recopilación\n",
    "de información. </span>\n",
    "\n",
    "<span style=\"font-size:18px; color:#000000; font-weight:bold\"> Precio del gas natural. </span>"
   ]
  },
  {
   "cell_type": "code",
   "execution_count": null,
   "id": "5ff54e8a",
   "metadata": {
    "scrolled": false
   },
   "outputs": [],
   "source": [
    "df_PrGNData = pd.read_excel(\"GeneralData.xlsx\", sheet_name=\"PrecioGas\")\n",
    "\n",
    "print(df_PrGNData)"
   ]
  },
  {
   "cell_type": "markdown",
   "id": "eda650a8",
   "metadata": {},
   "source": [
    "<span style=\"font-size:20px; color:#FFB356; font-weight:bold\"> Paso 3: Preparación de datos.</span>\n",
    "\n",
    "<span style=\"font-size:18px; color:#000000; font-weight:bold\"> Precio del gas natural. </span>"
   ]
  },
  {
   "cell_type": "code",
   "execution_count": null,
   "id": "ee2d58e1",
   "metadata": {
    "scrolled": true
   },
   "outputs": [],
   "source": [
    "for col in df_PrGNData:\n",
    "    \n",
    "    print(col)"
   ]
  },
  {
   "cell_type": "code",
   "execution_count": null,
   "id": "66fd6f79",
   "metadata": {},
   "outputs": [],
   "source": [
    "columnCount = len(df_PrGNData.columns)\n",
    "dataCount   = df_PrGNData[df_PrGNData.columns[0]].count()\n",
    "\n",
    "print(\"La base de datos cuenta con: \", columnCount, \"columnas.\")\n",
    "print(\"El set de datos tiene un total de \", dataCount, \"entradas por columna.\")"
   ]
  },
  {
   "cell_type": "code",
   "execution_count": null,
   "id": "364e70b2",
   "metadata": {},
   "outputs": [],
   "source": [
    "dataBank = []\n",
    "\n",
    "for column in df_PrGNData:\n",
    "    \n",
    "    columnName   = column\n",
    "    nullValues   = 100.0 * np.sum(df_PrGNData[column].isna()) / dataCount\n",
    "    dataType     = df_PrGNData[column].dtype\n",
    "    variedData   = len(df_PrGNData[column].unique())\n",
    "    minValue     = np.min(df_PrGNData[column].astype(str).to_numpy())\n",
    "    maxValue     = np.max(df_PrGNData[column].astype(str).to_numpy())\n",
    "    dataBank.append([columnName, nullValues, dataType, variedData, minValue, maxValue])\n",
    "\n",
    "dataBank    = np.array(dataBank)\n",
    "\n",
    "dataBank_df = pd.DataFrame(dataBank, columns = ['Columna', 'Datos nulos', 'Tipo de dato', 'Datos diferentes',\n",
    "                                                'Valor mínimo', 'Valor máximo'])\n",
    "\n",
    "print(dataBank_df)"
   ]
  },
  {
   "cell_type": "code",
   "execution_count": null,
   "id": "8b10ab02",
   "metadata": {},
   "outputs": [],
   "source": [
    "rows_to_ignore  = [\"Average German import price\",\"Canada (Alberta)\",\"LNG Japan CIF\",\"LNG Japan Korea Marker (JKM)\",\n",
    "                   \"Netherlands TTF index (DA ICIS Heren TTF index)\",\"UK NBP (ICIS NBP Index)\"]\n",
    "\n",
    "for i in range (0, len(rows_to_ignore)):\n",
    "    df_PrGNData.drop(df_PrGNData[(df_PrGNData[\"Entity\"] == rows_to_ignore[i])].index, inplace=True)\n",
    "\n",
    "datesThree = df_PrGNData \n",
    "\n",
    "datesThree = pd.DataFrame(datesThree).to_numpy()\n",
    "\n",
    "print(datesThree)"
   ]
  },
  {
   "cell_type": "code",
   "execution_count": null,
   "id": "0d799f65",
   "metadata": {},
   "outputs": [],
   "source": [
    "dateFormatTwo = []\n",
    "\n",
    "for j in range (0, len(datesThree)):\n",
    "    \n",
    "    YYMMDD = datetime((int(datesThree[j,1])), 1, 1, 0, 0, 0)\n",
    "    dateFormatTwo.append(str(YYMMDD))\n",
    "    \n",
    "pd.DataFrame(dateFormatTwo).to_numpy()\n",
    "\n",
    "formatdate2 = np.transpose(dateFormatTwo)\n",
    "\n",
    "print(dateFormatTwo)    "
   ]
  },
  {
   "cell_type": "code",
   "execution_count": null,
   "id": "ee9c4cc1",
   "metadata": {},
   "outputs": [],
   "source": [
    "PrGNData = np.array((dateFormatTwo[:],datesThree[:,2])); PrGNData = np.transpose(PrGNData)\n",
    "\n",
    "print(PrGNData)"
   ]
  },
  {
   "cell_type": "markdown",
   "id": "b3bc496c",
   "metadata": {},
   "source": [
    "<span style=\"font-size:18px; color:#000000; font-weight:bold\"> Ajuste y creación de la nueva base de datos. </span>"
   ]
  },
  {
   "cell_type": "code",
   "execution_count": null,
   "id": "9ffa3397",
   "metadata": {},
   "outputs": [],
   "source": [
    "def DatabaseCreation(startdate,enddate,startValue,endValue,datesList,interpolatedValues):\n",
    "    \n",
    "    start      = datetime.strptime(str(startdate), \"%Y-%m-%d %H:%M:%S\")\n",
    "    \n",
    "    end        = datetime.strptime(str(enddate), \"%Y-%m-%d %H:%M:%S\")\n",
    "    \n",
    "    difference = str(end - start); difference = int(difference[:-14]); \n",
    "    \n",
    "    x = [0, difference]\n",
    "    \n",
    "    y = [startValue, endValue]\n",
    "                        \n",
    "    \n",
    "    for i in range (0, difference):\n",
    "        \n",
    "        if (i == 0):\n",
    "            \n",
    "            Gnew  = float(startValue)\n",
    "            date = start\n",
    "            \n",
    "        elif (i > 0) and (i < difference): \n",
    "            \n",
    "            f     = sc.interpolate.interp1d(x,y); xnew = i; Gnew = float(f(xnew))\n",
    "            date = date + timedelta(days=1)\n",
    "        \n",
    "        datesList.append(date)\n",
    "        interpolatedValues.append(Gnew)  \n",
    "        \n",
    "    return datesList,interpolatedValues"
   ]
  },
  {
   "cell_type": "code",
   "execution_count": null,
   "id": "e1e27b0a",
   "metadata": {},
   "outputs": [],
   "source": [
    "datesList = [];   productionValues = [];   MGPAdjusted = []\n",
    "\n",
    "for i in range (0, len(PGData[:,1]) - 1):\n",
    "\n",
    "    DatabaseCreation(PGData[i,0],PGData[i+1,0],PGData[i,1],\n",
    "                     PGData[i+1,1],datesList,productionValues)\n",
    "\n",
    "lastday = datetime.strptime(str(PGData[-1,0]), \"%Y-%m-%d %H:%M:%S\")\n",
    "datesList.append(lastday)\n",
    "productionValues.append(PGData[-1,1])  "
   ]
  },
  {
   "cell_type": "code",
   "execution_count": null,
   "id": "bce16e42",
   "metadata": {},
   "outputs": [],
   "source": [
    "MGP  = np.array((datesList,productionValues)); MGP = np.transpose(MGP)\n",
    "MGP  = pd.DataFrame(MGP);\n",
    "MGP.columns = [\"Fecha\",\"Volumen de gas producido en México [MMpcd]\"]\n",
    "\n",
    "print(MGP)"
   ]
  },
  {
   "cell_type": "code",
   "execution_count": null,
   "id": "1924fa08",
   "metadata": {},
   "outputs": [],
   "source": [
    "Start       = datesList.index(datetime(2012, 1, 1, 0, 0))\n",
    "End         = datesList.index(datetime(2022, 1, 1, 0, 0)) + 1\n",
    "MGPAdjusted = np.array((datesList[Start:End],productionValues[Start:End])); \n",
    "MGPAdjusted = np.transpose(MGPAdjusted)\n",
    "print(MGPAdjusted)"
   ]
  },
  {
   "cell_type": "code",
   "execution_count": null,
   "id": "d8e04ac9",
   "metadata": {},
   "outputs": [],
   "source": [
    "datesListVOne = [];     WGV = []\n",
    "\n",
    "for i in range (0, len(PVWorldData[:,1]) - 1):\n",
    "\n",
    "    DatabaseCreation(PVWorldData[i,0],PVWorldData[i+1,0],\n",
    "                     PVWorldData[i,1],PVWorldData[i+1,1],datesListVOne,WGV)\n",
    "\n",
    "lastdayVOne = datetime.strptime(str(PVWorldData[-1,0]), \"%Y-%m-%d %H:%M:%S\")\n",
    "datesListVOne.append(lastdayVOne)\n",
    "WGV.append(PVWorldData[-1,1])  "
   ]
  },
  {
   "cell_type": "code",
   "execution_count": null,
   "id": "e34b743b",
   "metadata": {},
   "outputs": [],
   "source": [
    "datesListVTwo = [];     ULVG = []\n",
    "\n",
    "for i in range (0, len(PVWUSALATAMData[:,1]) - 1):\n",
    "\n",
    "    DatabaseCreation(PVWUSALATAMData[i,0],PVWUSALATAMData[i+1,0],\n",
    "                     PVWUSALATAMData[i,1],PVWUSALATAMData[i+1,1],datesListVTwo,ULVG)\n",
    "\n",
    "lastdayVTwo = datetime.strptime(str(PVWUSALATAMData[-1,0]), \"%Y-%m-%d %H:%M:%S\")\n",
    "datesListVTwo.append(lastdayVTwo)\n",
    "ULVG.append(PVWUSALATAMData[-1,1]) "
   ]
  },
  {
   "cell_type": "code",
   "execution_count": null,
   "id": "33c025a1",
   "metadata": {},
   "outputs": [],
   "source": [
    "datesListVThree = [];     MVG = []\n",
    "\n",
    "for i in range (0, len(PVMexicoData[:,1]) - 1):\n",
    "\n",
    "    DatabaseCreation(PVMexicoData[i,0],PVMexicoData[i+1,0],\n",
    "                     PVMexicoData[i,1],PVMexicoData[i+1,1],datesListVThree,MVG)\n",
    "\n",
    "lastdayVThree = datetime.strptime(str(PVMexicoData[-1,0]), \"%Y-%m-%d %H:%M:%S\")\n",
    "datesListVThree.append(lastdayVThree)\n",
    "MVG.append(PVMexicoData[-1,1]) "
   ]
  },
  {
   "cell_type": "code",
   "execution_count": null,
   "id": "fadb8000",
   "metadata": {},
   "outputs": [],
   "source": [
    "DbVG               = np.array((datesListVOne,WGV,ULVG,MVG));   DbVG = np.transpose(DbVG)\n",
    "VentingGas         = pd.DataFrame(DbVG);\n",
    "VentingGas.columns = [\"Fecha\", \"Volumen de gas venteado a nivel mundial [MMpcd]\",\n",
    "                      \"Volumen de gas venteado en EE.UU. y LATAM [MMpcd]\",\n",
    "                      \"Volumen de gas venteado en México [MMpcd]\"]\n",
    "print(VentingGas)"
   ]
  },
  {
   "cell_type": "code",
   "execution_count": null,
   "id": "2445f87c",
   "metadata": {},
   "outputs": [],
   "source": [
    "datesListVFour = [];   NGPrice = [];   PrecioGNAjustado = []\n",
    "\n",
    "for i in range (0, len(PrGNData[:,1]) - 1):\n",
    "\n",
    "    DatabaseCreation(PrGNData[i,0],PrGNData[i+1,0],PrGNData[i,1],PrGNData[i+1,1],datesListVFour,NGPrice)\n",
    "\n",
    "lastdayFour = datetime.strptime(str(PrGNData[-1,0]), \"%Y-%m-%d %H:%M:%S\")\n",
    "datesListVFour.append(lastdayFour)\n",
    "NGPrice.append(PrGNData[-1,1])  "
   ]
  },
  {
   "cell_type": "code",
   "execution_count": null,
   "id": "518cfd88",
   "metadata": {},
   "outputs": [],
   "source": [
    "DbNGPriceHH       = np.array((datesListVFour,NGPrice)); DbNGPriceHH = np.transpose(DbNGPriceHH)\n",
    "NGPriceHH        = pd.DataFrame(DbNGPriceHH);\n",
    "NGPriceHH.columns = [\"Fecha\",\"Precio [USD/MWh]\"]\n",
    "\n",
    "print(DbNGPriceHH)"
   ]
  },
  {
   "cell_type": "code",
   "execution_count": null,
   "id": "de293b65",
   "metadata": {},
   "outputs": [],
   "source": [
    "Start  = datesListVFour.index(datetime(2012, 1, 1, 0, 0))\n",
    "End    = datesListVFour.index(datetime(2022, 1, 1, 0, 0)) + 1\n",
    "\n",
    "NGPriceHHAdjusted =np.array((datesListVFour[Start:End], NGPrice[Start:End])) \n",
    "NGPriceHHAdjusted = np.transpose(NGPriceHHAdjusted)\n",
    "\n",
    "print(NGPriceHHAdjusted)"
   ]
  },
  {
   "cell_type": "code",
   "execution_count": null,
   "id": "3570c371",
   "metadata": {},
   "outputs": [],
   "source": [
    "DbNG               = np.array((datesListVOne,MGPAdjusted[:,1],WGV,ULVG,MVG,NGPriceHHAdjusted[:,1]))   \n",
    "DbNG               = np.transpose(DbNG)\n",
    "NaturalGas         = pd.DataFrame(DbNG);\n",
    "NaturalGas.columns = [\"Fecha\", \"Volumen de gas producido en México [MMpcd]\",\n",
    "                      \"Volumen de gas venteado a nivel mundial [MMpcd]\",\n",
    "                      \"Volumen de gas venteado en EE.UU. y LATAM [MMpcd]\",\n",
    "                      \"Volumen de gas venteado en México [MMpcd]\",\n",
    "                      \"Precio [USD/MWh]\"]"
   ]
  },
  {
   "cell_type": "code",
   "execution_count": null,
   "id": "370cc1b9",
   "metadata": {},
   "outputs": [],
   "source": [
    "with pd.ExcelWriter(\"Databases.xlsx\") as writer:    \n",
    "    MGP.to_excel(writer, sheet_name = \"ProduccionMexico\", index = False)\n",
    "    VentingGas.to_excel(writer, sheet_name = \"GasVenteo\", index = False)\n",
    "    NGPriceHH.to_excel(writer, sheet_name = \"PrecioGN\", index = False)\n",
    "    NaturalGas.to_excel(writer, sheet_name = \"GasNatural\", index = False)"
   ]
  },
  {
   "cell_type": "markdown",
   "id": "d2afd452",
   "metadata": {},
   "source": [
    "<span style=\"font-size:20px; color:#DA8BE3; font-weight:bold\"> Paso 4: Análisis exploratorio de la información. </span>"
   ]
  },
  {
   "cell_type": "code",
   "execution_count": null,
   "id": "7d5c3666",
   "metadata": {},
   "outputs": [],
   "source": [
    "df_FlaringandProductionData = pd.read_excel(\"Databases.xlsx\", sheet_name=\"GasNatural\")\n",
    "print(df_FlaringandProductionData)"
   ]
  },
  {
   "cell_type": "code",
   "execution_count": null,
   "id": "04511a5a",
   "metadata": {},
   "outputs": [],
   "source": [
    "for col in df_FlaringandProductionData:\n",
    "    \n",
    "    print(col)"
   ]
  },
  {
   "cell_type": "code",
   "execution_count": null,
   "id": "70f252a8",
   "metadata": {},
   "outputs": [],
   "source": [
    "columnCount   = len(df_FlaringandProductionData.columns)\n",
    "dataCount = df_FlaringandProductionData[df_FlaringandProductionData.columns[0]].count()\n",
    "\n",
    "print(\"La base de datos cuenta con: \", columnCount, \"columnas.\") \n",
    "print(\"El set de datos tiene un total de \", dataCount, \"entradas por columna.\")"
   ]
  },
  {
   "cell_type": "code",
   "execution_count": null,
   "id": "77b835e6",
   "metadata": {},
   "outputs": [],
   "source": [
    "dataBank = []\n",
    "\n",
    "for column in df_FlaringandProductionData:\n",
    "    \n",
    "    columnName   = column\n",
    "    nullValues   = 100.0*np.sum(df_FlaringandProductionData[column].isna())/dataCount\n",
    "    dataType     = df_FlaringandProductionData[column].dtype\n",
    "    variedData   = len(df_FlaringandProductionData[column].unique())\n",
    "    minValue     = np.min(df_FlaringandProductionData[column].astype(str).to_numpy())\n",
    "    maxValue     = np.max(df_FlaringandProductionData[column].astype(str).to_numpy())\n",
    "    dataBank.append([columnName, nullValues, dataType, variedData, minValue, maxValue])\n",
    "\n",
    "dataBank    = np.array(dataBank)\n",
    "\n",
    "dataBank_df = pd.DataFrame(dataBank, columns = ['Columna', 'Datos nulos', 'Tipo de dato', 'Datos diferentes',\n",
    "                                                'Valor mínimo', 'Valor máximo'])\n",
    "\n",
    "print(dataBank_df)"
   ]
  },
  {
   "cell_type": "code",
   "execution_count": null,
   "id": "a1a712d8",
   "metadata": {},
   "outputs": [],
   "source": [
    "for i in range(1, columnCount):\n",
    "    \n",
    "    columnName = df_FlaringandProductionData.columns[i]\n",
    "    series     = df_FlaringandProductionData[columnName].to_numpy()\n",
    "    noBoxes    = 40\n",
    "    \n",
    "    plt.figure()\n",
    "    plt.hist(series, bins = noBoxes, rwidth = 2, edgecolor = \"navy\", color = \"lightblue\", linewidth = 1.5)\n",
    "    if i == (columnCount-1):\n",
    "        plt.xlabel(\"Precio\", fontsize=8)\n",
    "    else:\n",
    "        plt.xlabel(\"Volumen\", fontsize=8)\n",
    "    plt.ylabel(\"Frecuencia\", fontsize=8)\n",
    "    plt.title(columnName, fontsize = 10)\n",
    "    plt.xticks(fontsize=8)\n",
    "    plt.yticks(fontsize=8)\n",
    "    NamePlot = \"Histograma %s .png\" %str(i)  \n",
    "    plt.savefig(NamePlot, dpi = 500)"
   ]
  },
  {
   "cell_type": "code",
   "execution_count": null,
   "id": "dce3669f",
   "metadata": {
    "scrolled": false
   },
   "outputs": [],
   "source": [
    "color             = sns.light_palette(\"#F9E46E\", reverse = True)\n",
    "snsdf             = df_FlaringandProductionData\n",
    "columnNames       = snsdf.columns\n",
    "columnCount       = len(columnNames)\n",
    "snsdf_columnNames = [\"Producción México\", \"Venteo mundial\", \"Venteo EE.UU. y LATAM\", \"Venteo México\", \"Precio\"]\n",
    "snsdf             = snsdf.rename(columns={columnNames[i]: snsdf_columnNames[i-1] for i in range(1, columnCount)})\n",
    "sns.set_palette(color)\n",
    "sns.pairplot(snsdf)"
   ]
  },
  {
   "cell_type": "markdown",
   "id": "5636a3ed",
   "metadata": {},
   "source": [
    "<span style=\"font-size:18px; color:#000000; font-weight:bold\"> Correlación entre variables. </span>"
   ]
  },
  {
   "cell_type": "code",
   "execution_count": null,
   "id": "58f9c051",
   "metadata": {
    "scrolled": false
   },
   "outputs": [],
   "source": [
    "corrCoeff = 0.6\n",
    "maxLag    = int(dataCount/3.0)\n",
    "\n",
    "auxList = []\n",
    "\n",
    "for i in range(1, columnCount):\n",
    "    \n",
    "    columnNameOne = snsdf.columns[i]\n",
    "    seriesOne     = snsdf[columnNameOne].to_numpy()\n",
    "    k = 1\n",
    "    \n",
    "    for j in range(i, columnCount):\n",
    "        columnNameTwo = snsdf.columns[j]\n",
    "        seriesTwo     = snsdf[columnNameTwo].to_numpy()\n",
    "        lags          = np.arange(maxLag)\n",
    "        corrCoeffVec  = np.zeros(maxLag)\n",
    "        \n",
    "        for k in range(1, maxLag): # lag\n",
    "            \n",
    "            X           = seriesOne[0:dataCount - k]\n",
    "            Y           = seriesTwo[k:dataCount]\n",
    "            C           = np.corrcoef(X,Y)\n",
    "            corrCoeffVec[k] = abs(C[0, 1])\n",
    "        \n",
    "        plt.figure()\n",
    "        plt.plot(lags, corrCoeffVec, c = \"tomato\")\n",
    "        plt.xlabel(\"Lags\", fontsize=8)\n",
    "        plt.ylabel(\"Grado de correlación\", fontsize=8)\n",
    "        plt.xticks(fontsize=8)\n",
    "        plt.yticks(fontsize=8)\n",
    "        plt.title(columnNameOne + ' - ' + columnNameTwo)\n",
    "        NamePlot = \"Correlacion %s .png\" %str(columnNameOne + ' - ' + columnNameTwo) \n",
    "        plt.savefig(NamePlot, dpi = 500)\n",
    "        \n",
    "        maxCorrCoeffVec = max(corrCoeffVec)\n",
    "        \n",
    "        if maxCorrCoeffVec > corrCoeff:\n",
    "            \n",
    "            forecastBinary = 1\n",
    "        \n",
    "        else:\n",
    "            \n",
    "            forecastBinary = 0\n",
    "        \n",
    "        mainLag = np.where(corrCoeffVec == maxCorrCoeffVec)[0][0]\n",
    "        \n",
    "        print(\"Valor máximo de correlación: \", maxCorrCoeffVec, \" lag correspondiente: \", mainLag, \" - \", columnNameOne + ' - ' + columnNameTwo)\n",
    "        \n",
    "        \n",
    "        auxList.append([columnNameOne, columnNameTwo, i, j, mainLag, maxCorrCoeffVec, forecastBinary])\n",
    "\n",
    "auxList    = np.array(auxList)\n",
    "auxList_df = pd.DataFrame(auxList, columns = ['Serie 1', 'Serie 2', 'Columna 1', \n",
    "                                              'Columna 2', 'Lag principal', 'Grado de correlación',\n",
    "                                              '¿Sirve?'])\n",
    "\n",
    "auxList_df.to_csv('Correlaciones.csv')"
   ]
  },
  {
   "cell_type": "code",
   "execution_count": null,
   "id": "48d85e8e",
   "metadata": {},
   "outputs": [],
   "source": [
    "maxValuesVec = np.zeros(columnCount)\n",
    "lagsVec = np.zeros(columnCount)\n",
    "\n",
    "for i in range(auxList_df[auxList_df.columns[0]].count()):\n",
    "    \n",
    "    if maxValuesVec[int(auxList_df['Columna 1'][i])] < float(auxList_df['Grado de correlación'][i]):\n",
    "        \n",
    "        maxValuesVec[int(auxList_df['Columna 1'][i])] = float(auxList_df['Grado de correlación'][i])\n",
    "        lagsVec[int(auxList_df['Columna 1'][i])] = int(auxList_df['Lag principal'][i])\n",
    "\n",
    "print(maxValuesVec)\n",
    "print(lagsVec)\n",
    "\n",
    "maxLag = int(max(lagsVec))\n",
    "\n",
    "print(maxLag)"
   ]
  },
  {
   "attachments": {},
   "cell_type": "markdown",
   "id": "b4f49b89",
   "metadata": {},
   "source": [
    "<span style=\"font-size:20px; color:#011893; font-weight:bold\"> Paso 5: Establecimiento de las variables de entrada. <br> <br> </span> \n",
    "<span style=\"font-size:15px; color:#000000\"> Las variables de entrada seleccionadas son: <br> <br>\n",
    "    <b> <span style=\"color:#011893;\"> &nbsp;&nbsp;&nbsp;&nbsp;&nbsp;&nbsp;1.&nbsp;&nbsp; </span> </b>Producción de gas natural en México. <br>\n",
    "    <b> <span style=\"color:#011893;\"> &nbsp;&nbsp;&nbsp;&nbsp;&nbsp;&nbsp;2.&nbsp;&nbsp;</span> </b>Venteo de gas mundial. <br>\n",
    "    <b> <span style=\"color:#011893;\">&nbsp;&nbsp;&nbsp;&nbsp;&nbsp;&nbsp;3.&nbsp;&nbsp;</span> </b>Venteo de gas en EE.UU. y LATAM. <br>\n",
    "    <b> <span style=\"color:#011893;\">&nbsp;&nbsp;&nbsp;&nbsp;&nbsp;&nbsp;4.&nbsp;&nbsp; </span> </b>Venteo de gas en México. <br>\n",
    "    <b> <span style=\"color:#011893;\">&nbsp;&nbsp;&nbsp;&nbsp;&nbsp;&nbsp;5.&nbsp;&nbsp; </span> </b>Precio del gas natural en Henry Hub. \n",
    "    </span>\n",
    "    <br>"
   ]
  },
  {
   "cell_type": "markdown",
   "id": "931f2ccf",
   "metadata": {},
   "source": [
    "<span style=\"font-size:20px; color:#92D050; font-weight:bold\"> Paso 6: Elección y entrenamiento del modelo. <br> <br> </span> \n",
    "<span style=\"font-size:15px; color:#000000\"> Los modelos predictivos de Machine Learning a entrenar son: <br> <br>\n",
    "    <b> <span style=\"color:#92D050;\"> &nbsp;&nbsp;&nbsp;&nbsp;&nbsp;&nbsp;1.&nbsp;&nbsp;</span> </b>Bosque aleatorio. <br>\n",
    "    <b> <span style=\"color:#92D050;\"> &nbsp;&nbsp;&nbsp;&nbsp;&nbsp;&nbsp;2.&nbsp;&nbsp;</span> </b>Red neuronal LSTM. <br>\n",
    "    <b> <span style=\"color:#92D050;\">&nbsp;&nbsp;&nbsp;&nbsp;&nbsp;&nbsp;3.&nbsp;&nbsp;</span> </b>Red neuronal LSTM modular. <br>\n",
    "    </span>\n",
    "    <br>"
   ]
  },
  {
   "cell_type": "code",
   "execution_count": null,
   "id": "99d1167e",
   "metadata": {},
   "outputs": [],
   "source": [
    "modelXmat = np.empty((0, dataCount - maxLag)) \n",
    "modelYmat = np.empty((0, dataCount - maxLag)) \n",
    "\n",
    "for i in range(1, columnCount):\n",
    "    \n",
    "    columnName = df_FlaringandProductionData.columns[i]\n",
    "    aux = df_FlaringandProductionData[columnName].to_numpy()[(maxLag - int(lagsVec[i])):(dataCount - int(lagsVec[i]))]\n",
    "    modelXmat = np.append(modelXmat, np.array([aux]), axis=0)\n",
    "    aux = df_FlaringandProductionData[columnName].to_numpy()[maxLag:dataCount]\n",
    "    modelYmat = np.append(modelYmat, np.array([aux]), axis=0)\n",
    "\n",
    "modelXmat = modelXmat.transpose()\n",
    "modelYmat = modelYmat.transpose()\n",
    "\n",
    "TimePeriod = df_FlaringandProductionData[\"Fecha\"][maxLag:dataCount].to_numpy()\n",
    "\n",
    "print(modelXmat.shape, modelYmat.shape)"
   ]
  },
  {
   "cell_type": "code",
   "execution_count": null,
   "id": "287fbc98",
   "metadata": {},
   "outputs": [],
   "source": [
    "modelXmat = modelXmat.transpose()\n",
    "modelYmat = modelYmat.transpose()\n",
    "\n",
    "print(modelXmat.shape[0])\n",
    "\n",
    "minVec = np.zeros(modelXmat.shape[0])\n",
    "maxVec = np.zeros(modelXmat.shape[0])\n",
    "modelXnormalised = np.empty((0, dataCount - maxLag))\n",
    "modelYnormalised = np.empty((0, dataCount - maxLag))\n",
    "\n",
    "for i in range(modelXmat.shape[0]):\n",
    "    \n",
    "    minVec[i] = np.min(np.concatenate((modelXmat[i], modelYmat[i])))\n",
    "    maxVec[i] = np.max(np.concatenate((modelXmat[i], modelYmat[i])))\n",
    "    aux = (modelXmat[i] - minVec[i])/(maxVec[i] - minVec[i])\n",
    "    modelXnormalised = np.append(modelXnormalised, np.array([aux]), axis=0)\n",
    "    aux = (modelYmat[i] - minVec[i])/(maxVec[i] - minVec[i])\n",
    "    modelYnormalised = np.append(modelYnormalised, np.array([aux]), axis=0)\n",
    "\n",
    "print(minVec)\n",
    "print(maxVec)\n",
    "\n",
    "print(np.min(np.concatenate((modelXnormalised[0], modelYnormalised[0]))), np.max(np.concatenate((modelXnormalised[0], modelYnormalised[0]))))\n",
    "\n",
    "modelXmat = modelXmat.transpose()\n",
    "modelYmat = modelYmat.transpose()\n",
    "modelXnormalised = modelXnormalised.transpose()\n",
    "modelYnormalised = modelYnormalised.transpose()\n"
   ]
  },
  {
   "cell_type": "markdown",
   "id": "1b7b75be",
   "metadata": {},
   "source": [
    "<span style=\"font-size:18px; color:#000000; font-weight:bold\"> Definición de la proporción de datos para entrenamiento y validación del modelo y normalización de datos. </span>"
   ]
  },
  {
   "cell_type": "code",
   "execution_count": null,
   "id": "9bf831f0",
   "metadata": {},
   "outputs": [],
   "source": [
    "trainPortion = 0.75\n",
    "trainingDataCount = int(trainPortion*modelYmat.shape[0])\n",
    "\n",
    "trainXmat = modelXmat[0:trainingDataCount, :]\n",
    "testXmat = modelXmat[trainingDataCount:modelYmat.shape[0], :]\n",
    "\n",
    "trainYmat = modelYmat[0:trainingDataCount,:]\n",
    "testYmat = modelYmat[trainingDataCount:modelYmat.shape[0], :]\n",
    "\n",
    "trainXnormalised = modelXnormalised[0:trainingDataCount, :]\n",
    "testXnormalised = modelXnormalised[trainingDataCount:modelYmat.shape[0], :]\n",
    "\n",
    "trainYnormalised = modelYnormalised[0:trainingDataCount,:]\n",
    "testYnormalised = modelYnormalised[trainingDataCount:modelYmat.shape[0], :]\n",
    "\n",
    "trainDates = TimePeriod[0:trainingDataCount]\n",
    "testDates = TimePeriod[trainingDataCount:modelYmat.shape[0]]"
   ]
  },
  {
   "cell_type": "markdown",
   "id": "10e048a4",
   "metadata": {},
   "source": [
    "<span style=\"font-size:18px; color:#000000; font-weight:bold\"> Entrenamiento de Bosque aleatorio  </span>"
   ]
  },
  {
   "cell_type": "code",
   "execution_count": null,
   "id": "39dc90bb",
   "metadata": {},
   "outputs": [],
   "source": [
    "DecisionTreesNumber = 10\n",
    "model = MultiOutputRegressor(RandomForestRegressor(n_estimators = DecisionTreesNumber,\n",
    "                                                   max_depth = None, random_state = 0))\n",
    "model.fit(trainXmat, trainYmat)"
   ]
  },
  {
   "cell_type": "code",
   "execution_count": null,
   "id": "1b340d24",
   "metadata": {},
   "outputs": [],
   "source": [
    "adjustmentPrediction = model.predict(testXmat)\n",
    "\n",
    "trainXmat = trainXmat.transpose()\n",
    "adjustmentPrediction = adjustmentPrediction.transpose()\n",
    "\n",
    "trainYmat = trainYmat.transpose()\n",
    "testYmat = testYmat.transpose()\n",
    "      \n",
    "for i in range(1, columnCount):\n",
    "    \n",
    "    columnName = df_FlaringandProductionData.columns[i]\n",
    "    \n",
    "    plt.figure()\n",
    "    fig, ax = plt.subplots()\n",
    "    PlotDataX = np.concatenate((trainXmat[i-1],adjustmentPrediction[i-1]),axis=0)\n",
    "    plt.plot(TimePeriod, PlotDataX, linestyle = \"dotted\", color = \"gray\", label=\"Predicción\")\n",
    "    PlotDataY = np.concatenate((trainYmat[i-1],testYmat[i-1]),axis=0)\n",
    "    plt.plot(TimePeriod, PlotDataY, linestyle = \"dashed\", color = \"#B71B1C\", label=\"Real\")\n",
    "    plt.title(\"mse = \" + str(np.round(mean_squared_error(adjustmentPrediction[i-1], testYmat[i-1]),2)))\n",
    "    plt.suptitle(columnName)\n",
    "    ax.tick_params(axis = \"x\", labelrotation = 30)\n",
    "    plt.legend()\n",
    "    NamePlot = \"Gráfico - Bosque Aleatorio %s .png\" %str(i)  \n",
    "    plt.savefig(NamePlot, dpi = 500)"
   ]
  },
  {
   "cell_type": "markdown",
   "id": "02312c4b",
   "metadata": {},
   "source": [
    "<span style=\"font-size:18px; color:#000000; font-weight:bold\"> Entrenamiento de Red neuronal LSTM  </span>"
   ]
  },
  {
   "cell_type": "code",
   "execution_count": null,
   "id": "a5866f20",
   "metadata": {},
   "outputs": [],
   "source": [
    "trainXnormalised = np.reshape(trainXnormalised, (trainXnormalised.shape[0], trainXnormalised.shape[1], 1))\n",
    "\n",
    "neurons = inputs = outputs = trainXnormalised.shape[1]\n",
    "\n",
    "print(inputs, outputs)\n",
    "\n",
    "start = time.time()\n",
    "model = Sequential()\n",
    "model.add(LSTM(neurons, activation = \"linear\", input_shape = (trainXnormalised.shape[1], trainXnormalised.shape[2])))\n",
    "model.add(Dense(outputs))\n",
    "model.compile(loss = \"mse\", optimizer = \"Adam\")\n",
    "model.fit(trainXnormalised, trainYnormalised, epochs = 200, batch_size = 32, verbose = 0)"
   ]
  },
  {
   "cell_type": "code",
   "execution_count": null,
   "id": "a9841af3",
   "metadata": {},
   "outputs": [],
   "source": [
    "testXnormalised = np.reshape(testXnormalised, (testXnormalised.shape[0], testXnormalised.shape[1], 1))\n",
    "\n",
    "adjustmentPrediction = model.predict(testXnormalised)\n",
    "adjustmentPrediction = adjustmentPrediction.transpose()\n",
    "testYnormalised = testYnormalised.transpose()\n",
    "\n",
    "error = 0\n",
    "\n",
    "for i in range(1, columnCount):\n",
    "    \n",
    "    columnName = df_FlaringandProductionData.columns[i]\n",
    "    \n",
    "    plt.figure()\n",
    "    fig, ax = plt.subplots()\n",
    "    PlotDataX = np.concatenate((trainXmat[i-1],(maxVec[i-1] - minVec[i-1]) * adjustmentPrediction[i-1] + minVec[i-1]),axis=0)\n",
    "    plt.plot(TimePeriod, PlotDataX, linestyle = \"dotted\", color = \"gray\", label=\"Predicción\")\n",
    "    PlotDataY = np.concatenate((trainYmat[i-1],(maxVec[i-1] - minVec[i-1])*testYnormalised[i-1] + minVec[i-1]),axis=0)\n",
    "    plt.plot(TimePeriod, PlotDataY, linestyle = \"dashed\", color = \"#B71B1C\", label=\"Real\")\n",
    "    plt.title(\"mse = \" + str(np.round(mean_squared_error(adjustmentPrediction[i-1], testYnormalised[i-1]),2)))\n",
    "    error = error + mean_squared_error(adjustmentPrediction[i-1], testYnormalised[i-1])\n",
    "    plt.suptitle(columnName)\n",
    "    ax.tick_params(axis = \"x\", labelrotation = 30)\n",
    "    plt.legend()\n",
    "    NamePlot = \"Gráfico - Red Neuronal Convencional %s .png\" %str(i)  \n",
    "    plt.savefig(NamePlot, dpi = 500)\n",
    "\n",
    "end = time.time()\n",
    "print(\"El tiempo de ejecución fue de: \",end - start, \"[s]\")\n",
    "print(error)"
   ]
  },
  {
   "cell_type": "markdown",
   "id": "6586e0c5",
   "metadata": {},
   "source": [
    "<span style=\"font-size:18px; color:#000000; font-weight:bold\"> Entrenamiento de Red neuronal LSTM modular  </span>"
   ]
  },
  {
   "cell_type": "code",
   "execution_count": null,
   "id": "055f77b9",
   "metadata": {},
   "outputs": [],
   "source": [
    "auxRNList = []\n",
    "\n",
    "trainYnormalised = trainYnormalised.transpose()\n",
    "\n",
    "trainXnormalised = np.reshape(trainXnormalised, (trainXnormalised.shape[0], trainXnormalised.shape[1], 1))\n",
    "\n",
    "neurons = inputs = trainXnormalised.shape[1]\n",
    "outputs = 1\n",
    "\n",
    "print(inputs, outputs)"
   ]
  },
  {
   "cell_type": "code",
   "execution_count": null,
   "id": "18fffbb7",
   "metadata": {
    "scrolled": true
   },
   "outputs": [],
   "source": [
    "activationfunction  = [\"linear\",\"linear\",\"linear\",\"linear\",\"linear\"]\n",
    "lossfunction        = [\"mse\",\"mse\",\"mse\",\"mse\",\"mse\"]\n",
    "optimiser           = [\"Adam\",\"Adam\",\"Adam\",\"Adam\",\"Adam\"]\n",
    "modelresults        = np.zeros((trainXnormalised.shape[0] + testXnormalised.shape[0],testXnormalised.shape[1]))\n",
    "print(modelresults.shape)\n",
    "start = time.time()\n",
    "\n",
    "for i in range(1,columnCount):\n",
    "    \n",
    "    outputArray = trainYnormalised[i-1].transpose()\n",
    "    model = Sequential()\n",
    "    model.add(LSTM(neurons, activation = activationfunction[i-1], input_shape = (trainXnormalised.shape[1], trainXnormalised.shape[2])))\n",
    "    model.add(Dense(outputs))\n",
    "    model.compile(loss = lossfunction[i-1], optimizer = optimiser[i-1])\n",
    "    model.fit(trainXnormalised, outputArray, epochs=200, batch_size=32, verbose=0)\n",
    "    auxRNList.append(model)\n",
    "\n",
    "testXnormalised = np.reshape(testXnormalised, (testXnormalised.shape[0], testXnormalised.shape[1], 1))  \n",
    "\n",
    "error = 0\n",
    "\n",
    "for i in range(1, columnCount):\n",
    "    \n",
    "    adjustmentPrediction = auxRNList[i-1].predict(testXnormalised)\n",
    "    adjustmentPrediction = adjustmentPrediction.transpose()\n",
    "    columnName = df_FlaringandProductionData.columns[i]\n",
    "    \n",
    "    plt.figure() \n",
    "    fig, ax = plt.subplots()\n",
    "    np.resize(adjustmentPrediction,(0))\n",
    "    PlotDataX = np.concatenate((trainXmat[i-1],((maxVec[i-1] - minVec[i-1]) * adjustmentPrediction[0,:] + minVec[i-1])),axis=0)\n",
    "    plt.plot(TimePeriod, PlotDataX, linestyle = \"dotted\", color = \"gray\", label=\"Predicción\")\n",
    "    PlotDataY = np.concatenate((trainYmat[i-1],(maxVec[i-1] - minVec[i-1])*testYnormalised[i-1] + minVec[i-1]),axis=0)\n",
    "    plt.plot(TimePeriod, PlotDataY, linestyle = \"dashed\", color = \"#B71B1C\", label=\"Real\")\n",
    "    plt.title(lossfunction[i-1] + \" = \"+ str(np.round(mean_squared_error(adjustmentPrediction[0,:], testYnormalised[i-1]),2)))\n",
    "    error = error + mean_squared_error((maxVec[i-1] - minVec[i-1])*adjustmentPrediction[0,:] + minVec[i-1], (maxVec[i-1] - minVec[i-1])*testYnormalised[i-1] + minVec[i-1])\n",
    "    plt.suptitle(columnName)\n",
    "    ax.tick_params(axis = \"x\", labelrotation = 30)\n",
    "    plt.legend()\n",
    "    NamePlot = \"Gráfico - Red Neuronal Modular %s .png\" %str(i)  \n",
    "    plt.savefig(NamePlot, dpi = 500)\n",
    "    modelresults[:,i-1] = PlotDataX\n",
    "            \n",
    "end = time.time()\n",
    "print(\"El tiempo de ejecución fue de: \",end - start, \"[s]\")"
   ]
  },
  {
   "cell_type": "markdown",
   "id": "55de9d2c",
   "metadata": {},
   "source": [
    "<span style=\"font-size:20px; color:#FF8AD8; font-weight:bold\"> Paso 7: Evaluación y ajuste del modelo. <br> <br> </span> \n",
    "<span style=\"font-size:15px; color:#000000\"> La evaluación y ajuste de cada modelo predictivo se lleva a cabo mediante la variación de sus hiperparámetros. Una vez que se han obtenido los valores óptimos, se procede con la ejecución de las siguientes celdas de código. <br>\n",
    "</span>"
   ]
  },
  {
   "cell_type": "markdown",
   "id": "909e2434",
   "metadata": {},
   "source": [
    "<span style=\"font-size:18px; color:#000000; font-weight:bold\"> Predicciones obtenidas a partir de la Red neuronal LSTM modular.  </span>"
   ]
  },
  {
   "cell_type": "code",
   "execution_count": null,
   "id": "579381aa",
   "metadata": {},
   "outputs": [],
   "source": [
    "results = []; predictiondates = []\n",
    "\n",
    "testenddate = TimePeriod[-1]\n",
    "testenddate = testenddate.astype('datetime64[D]').astype(datetime)\n",
    "\n",
    "startofprediction = testenddate + timedelta(days=1)\n",
    "\n",
    "endofprediction = np.datetime64(\"2025-01-02\")\n",
    "endofprediction = endofprediction.astype('datetime64[D]').astype(datetime)\n",
    "\n",
    "daysofprediction = int((endofprediction-startofprediction).days)\n",
    "\n",
    "inputparameters = testXnormalised[testXnormalised.shape[0] - 1, :]\n",
    "inputparameters = inputparameters.reshape((1, 5, 1))\n",
    "\n",
    "while startofprediction <= (testenddate + timedelta(days=daysofprediction)):\n",
    "    outputsvectoraux = []\n",
    "    \n",
    "    for j in range(1,columnCount):\n",
    "        outputs = auxRNList[j-1].predict(inputparameters)\n",
    "        predictiondates.append(startofprediction)\n",
    "        if outputs[0, 0] < 0 or outputs[0, 0] > 1:\n",
    "            outputs[0, 0] = np.random.rand(1)[0]\n",
    "        outputsvectoraux.append(outputs)\n",
    "    \n",
    "    results.append(outputsvectoraux)\n",
    "    outputsvectoraux = np.array(outputsvectoraux)\n",
    "    outputsvectoraux = outputsvectoraux.reshape((1, 5, 1))\n",
    "    startofprediction += timedelta(days=1)\n",
    "    inputparameters = outputsvectoraux\n",
    "\n",
    "results = np.array(results)\n",
    "results = results.reshape((results.shape[0], results.shape[1]))\n",
    "predictiondates = np.unique(np.array(predictiondates)).astype(datetime).astype('datetime64[D]')\n",
    "predictiondates = np.hstack((testenddate, predictiondates))"
   ]
  },
  {
   "cell_type": "code",
   "execution_count": null,
   "id": "daadbd29",
   "metadata": {
    "scrolled": false
   },
   "outputs": [],
   "source": [
    "for i in range(1, columnCount):\n",
    "    \n",
    "    columnName = df_FlaringandProductionData.columns[i]    \n",
    "    plt.figure()\n",
    "    fig, ax = plt.subplots()\n",
    "    PlotDataX= modelresults[:,i-1]\n",
    "    plt.plot(TimePeriod,PlotDataX,linestyle = \"dotted\", color = \"gray\", label=\"Predicción\")\n",
    "    PlotDataY = np.concatenate((trainYmat[i-1],(maxVec[i-1] - minVec[i-1])*testYnormalised[i-1] + minVec[i-1]),axis=0)\n",
    "    plt.plot(TimePeriod, PlotDataY, linestyle = \"dashed\", color = \"#B71B1C\", label=\"Real\")\n",
    "    PlotData = (maxVec[i-1] - minVec[i-1]) * results[:,i-1] + minVec[i-1]\n",
    "    PlotData = np.hstack((modelresults[-1,i-1],PlotData))\n",
    "    plt.plot(predictiondates, PlotData, linestyle = \"dotted\", color = \"gray\")\n",
    "    ax.tick_params(axis = \"x\", labelrotation = 30)\n",
    "    plt.suptitle(columnName)\n",
    "    plt.legend()\n",
    "    NamePlot = \"Predicción  %s .png\" %str(i)  \n",
    "    plt.savefig(NamePlot, dpi = 500)"
   ]
  },
  {
   "cell_type": "code",
   "execution_count": null,
   "id": "81ad3fec",
   "metadata": {},
   "outputs": [],
   "source": [
    "for i in range(1,13):    \n",
    "    if i < 10:\n",
    "        Date2024Index = np.where(predictiondates == np.datetime64(\"2024-0%s-01\" %str(i)))\n",
    "        Flaring2024 =results[Date2024Index]\n",
    "    else:\n",
    "        Date2024Index = np.where(predictiondates == np.datetime64(\"2024-%s-01\" %str(i)))\n",
    "        Flaring2024 = results[Date2024Index]\n",
    "    for j in range(1, columnCount):\n",
    "        Flaring2024[:,j-1] = (maxVec[j-1] - minVec[j-1])*Flaring2024[:,j-1] + minVec[j-1]\n",
    "    print(predictiondates[Date2024Index],Flaring2024)"
   ]
  },
  {
   "cell_type": "code",
   "execution_count": null,
   "id": "f7a5780e",
   "metadata": {},
   "outputs": [],
   "source": [
    "start = np.where(predictiondates == np.datetime64(\"2024-01-01\")); start = int(start[0])\n",
    "end   = np.where(predictiondates == np.datetime64(\"2025-01-01\")); end = int(end[0])\n",
    "\n",
    "for i in range(1, columnCount):    \n",
    "    columnName = df_FlaringandProductionData.columns[i] \n",
    "    plt.figure() \n",
    "    fig, ax = plt.subplots()\n",
    "    Plot2024Data = (maxVec[i-1] - minVec[i-1]) * results[start:end,i-1] + minVec[i-1]\n",
    "    plt.plot(predictiondates[start:end], Plot2024Data, linestyle = \"solid\", color = \"gray\", label=\"Predicción\")\n",
    "    ax.tick_params(axis = \"x\", labelrotation = 30)\n",
    "    plt.suptitle(columnName)\n",
    "    plt.legend()\n",
    "    NamePlot = \"Gráfico %s - Predicción 2024.png\" %str(i)  \n",
    "    plt.savefig(NamePlot, dpi = 500)"
   ]
  }
 ],
 "metadata": {
  "kernelspec": {
   "display_name": "Python 3 (ipykernel)",
   "language": "python",
   "name": "python3"
  },
  "language_info": {
   "codemirror_mode": {
    "name": "ipython",
    "version": 3
   },
   "file_extension": ".py",
   "mimetype": "text/x-python",
   "name": "python",
   "nbconvert_exporter": "python",
   "pygments_lexer": "ipython3",
   "version": "3.11.5"
  }
 },
 "nbformat": 4,
 "nbformat_minor": 5
}
